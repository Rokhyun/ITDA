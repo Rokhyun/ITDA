{
  "nbformat": 4,
  "nbformat_minor": 0,
  "metadata": {
    "colab": {
      "provenance": [],
      "collapsed_sections": [],
      "authorship_tag": "ABX9TyO/gNMNGM32n01Sjqr3q/F+",
      "include_colab_link": true
    },
    "kernelspec": {
      "name": "python3",
      "display_name": "Python 3"
    },
    "language_info": {
      "name": "python"
    }
  },
  "cells": [
    {
      "cell_type": "markdown",
      "metadata": {
        "id": "view-in-github",
        "colab_type": "text"
      },
      "source": [
        "<a href=\"https://colab.research.google.com/github/Rokhyun/ITDA/blob/main/ITDA_%EC%BD%94%EB%94%A9%EB%8F%84%EC%9E%A5_UNIT8.ipynb\" target=\"_parent\"><img src=\"https://colab.research.google.com/assets/colab-badge.svg\" alt=\"Open In Colab\"/></a>"
      ]
    },
    {
      "cell_type": "markdown",
      "source": [
        "#파이썬 코딩도장 "
      ],
      "metadata": {
        "id": "-Vi3sDnBj89Z"
      }
    },
    {
      "cell_type": "markdown",
      "source": [
        "unit 8-1"
      ],
      "metadata": {
        "id": "lpvh8sYeu3BX"
      }
    },
    {
      "cell_type": "code",
      "execution_count": null,
      "metadata": {
        "colab": {
          "base_uri": "https://localhost:8080/"
        },
        "id": "vnqRnIk9icg3",
        "outputId": "f4628865-42e3-4da5-9052-ad34ff9dad28"
      },
      "outputs": [
        {
          "output_type": "execute_result",
          "data": {
            "text/plain": [
              "True"
            ]
          },
          "metadata": {},
          "execution_count": 8
        }
      ],
      "source": [
        "3 > 1\n",
        "\n",
        "#판단 결과로 true,false를 사용"
      ]
    },
    {
      "cell_type": "code",
      "source": [
        "10==10  #같은지 비교할 떄 ==(equal) \n",
        "\n",
        "10 != 5 #다른지 비교할 때 !=(not equal) \n",
        "\n",
        "#비교할때는 = 이 아닌 ==을 사용함. =는 이미 할당 연산자로 사용되고 있기 떄문"
      ],
      "metadata": {
        "colab": {
          "base_uri": "https://localhost:8080/"
        },
        "id": "1dm3D7CKjPPz",
        "outputId": "a4473e49-8ac2-4a64-d839-0ba47ddae213"
      },
      "execution_count": null,
      "outputs": [
        {
          "output_type": "execute_result",
          "data": {
            "text/plain": [
              "True"
            ]
          },
          "metadata": {},
          "execution_count": 6
        }
      ]
    },
    {
      "cell_type": "code",
      "source": [
        "#문자열 비교하기\n",
        "\n",
        "'python' == 'python' "
      ],
      "metadata": {
        "colab": {
          "base_uri": "https://localhost:8080/"
        },
        "id": "KETTmeF3jbM9",
        "outputId": "83213ee7-abfe-431a-a39f-6080869e06c4"
      },
      "execution_count": null,
      "outputs": [
        {
          "output_type": "execute_result",
          "data": {
            "text/plain": [
              "True"
            ]
          },
          "metadata": {},
          "execution_count": 13
        }
      ]
    },
    {
      "cell_type": "code",
      "source": [
        "'Python' == 'python'"
      ],
      "metadata": {
        "colab": {
          "base_uri": "https://localhost:8080/"
        },
        "id": "trLLF6WllDo6",
        "outputId": "ecc64e52-9cb5-4c26-a92e-b01508b70c78"
      },
      "execution_count": null,
      "outputs": [
        {
          "output_type": "execute_result",
          "data": {
            "text/plain": [
              "False"
            ]
          },
          "metadata": {},
          "execution_count": 11
        }
      ]
    },
    {
      "cell_type": "code",
      "source": [
        "'Python' != 'python'"
      ],
      "metadata": {
        "colab": {
          "base_uri": "https://localhost:8080/"
        },
        "id": "2dCqUKDFlNyM",
        "outputId": "95aae960-24de-4c44-c7cb-272ca0bed94b"
      },
      "execution_count": null,
      "outputs": [
        {
          "output_type": "execute_result",
          "data": {
            "text/plain": [
              "True"
            ]
          },
          "metadata": {},
          "execution_count": 12
        }
      ]
    },
    {
      "cell_type": "code",
      "source": [
        "10 > 20"
      ],
      "metadata": {
        "colab": {
          "base_uri": "https://localhost:8080/"
        },
        "id": "vmYJyzVZlasC",
        "outputId": "9d96813a-e034-478b-8ea1-10f264b22412"
      },
      "execution_count": null,
      "outputs": [
        {
          "output_type": "execute_result",
          "data": {
            "text/plain": [
              "False"
            ]
          },
          "metadata": {},
          "execution_count": 15
        }
      ]
    },
    {
      "cell_type": "code",
      "source": [
        "10 >= 20"
      ],
      "metadata": {
        "colab": {
          "base_uri": "https://localhost:8080/"
        },
        "id": "7pB7OMPVpiBF",
        "outputId": "9b3a01a1-15d1-43f5-edf1-86103b5a2247"
      },
      "execution_count": null,
      "outputs": [
        {
          "output_type": "execute_result",
          "data": {
            "text/plain": [
              "False"
            ]
          },
          "metadata": {},
          "execution_count": 16
        }
      ]
    },
    {
      "cell_type": "code",
      "source": [
        "#is 와 is not\n",
        "\n",
        "# ==,!=는 값 자체의 비교에 사용/is,is not은 객체를 비교함"
      ],
      "metadata": {
        "id": "Ti_pF_FFpnaV"
      },
      "execution_count": null,
      "outputs": []
    },
    {
      "cell_type": "code",
      "source": [
        "1 == 1.0"
      ],
      "metadata": {
        "colab": {
          "base_uri": "https://localhost:8080/"
        },
        "id": "0_RR4Npapzb3",
        "outputId": "6bd0c6ea-7c7e-4fc3-8e08-a7129abf0ab4"
      },
      "execution_count": null,
      "outputs": [
        {
          "output_type": "execute_result",
          "data": {
            "text/plain": [
              "True"
            ]
          },
          "metadata": {},
          "execution_count": 21
        }
      ]
    },
    {
      "cell_type": "code",
      "source": [
        "1 is 1.0 \n",
        "\n",
        " #왜 결과가 다르냐? ==는 값 자체를 비교해 같다고 봄. \n",
        "#그러나 is는 1을 정수 객체, 1.0을 실수 객체 이렇게 다르게 판단하기 떄문임."
      ],
      "metadata": {
        "colab": {
          "base_uri": "https://localhost:8080/"
        },
        "id": "dBS3AOoZqUs8",
        "outputId": "63e1a61a-afe3-45a9-a1f2-ea94e9acc239"
      },
      "execution_count": null,
      "outputs": [
        {
          "output_type": "execute_result",
          "data": {
            "text/plain": [
              "False"
            ]
          },
          "metadata": {},
          "execution_count": 24
        }
      ]
    },
    {
      "cell_type": "markdown",
      "source": [
        "unit 8-2"
      ],
      "metadata": {
        "id": "J9wyukLDrHkF"
      }
    },
    {
      "cell_type": "code",
      "source": [
        "#논리 연산자\n",
        "#and"
      ],
      "metadata": {
        "id": "zJFe8XQ0r5Dw"
      },
      "execution_count": null,
      "outputs": []
    },
    {
      "cell_type": "code",
      "source": [
        "True and True"
      ],
      "metadata": {
        "colab": {
          "base_uri": "https://localhost:8080/"
        },
        "id": "n8zD5kIRrFIW",
        "outputId": "2b87214b-fcbd-47d8-830c-d9ef272b55f8"
      },
      "execution_count": null,
      "outputs": [
        {
          "output_type": "execute_result",
          "data": {
            "text/plain": [
              "True"
            ]
          },
          "metadata": {},
          "execution_count": 30
        }
      ]
    },
    {
      "cell_type": "code",
      "source": [
        "True and False"
      ],
      "metadata": {
        "colab": {
          "base_uri": "https://localhost:8080/"
        },
        "id": "Vws5VKK0rd97",
        "outputId": "c29acc63-b95b-46c9-a8ab-7594270775b0"
      },
      "execution_count": null,
      "outputs": [
        {
          "output_type": "execute_result",
          "data": {
            "text/plain": [
              "False"
            ]
          },
          "metadata": {},
          "execution_count": 27
        }
      ]
    },
    {
      "cell_type": "code",
      "source": [
        "False and False #and 연산자는 두 값이 모두 True여야 True임."
      ],
      "metadata": {
        "colab": {
          "base_uri": "https://localhost:8080/"
        },
        "id": "K8rMek0orhBS",
        "outputId": "28d9f240-3652-4ced-863b-2821bc697e1c"
      },
      "execution_count": null,
      "outputs": [
        {
          "output_type": "execute_result",
          "data": {
            "text/plain": [
              "False"
            ]
          },
          "metadata": {},
          "execution_count": 28
        }
      ]
    },
    {
      "cell_type": "code",
      "source": [
        "#or"
      ],
      "metadata": {
        "id": "7-3cIvcJrpV2"
      },
      "execution_count": null,
      "outputs": []
    },
    {
      "cell_type": "code",
      "source": [
        "True or True"
      ],
      "metadata": {
        "colab": {
          "base_uri": "https://localhost:8080/"
        },
        "id": "K6QF779Mr7_N",
        "outputId": "f6107389-62cf-4744-ce20-bd043940e02a"
      },
      "execution_count": null,
      "outputs": [
        {
          "output_type": "execute_result",
          "data": {
            "text/plain": [
              "True"
            ]
          },
          "metadata": {},
          "execution_count": 33
        }
      ]
    },
    {
      "cell_type": "code",
      "source": [
        "True or False"
      ],
      "metadata": {
        "colab": {
          "base_uri": "https://localhost:8080/"
        },
        "id": "xo2_ZT1Yr_5n",
        "outputId": "752b35c7-12bb-4d31-d110-857c704ff6b8"
      },
      "execution_count": null,
      "outputs": [
        {
          "output_type": "execute_result",
          "data": {
            "text/plain": [
              "True"
            ]
          },
          "metadata": {},
          "execution_count": 34
        }
      ]
    },
    {
      "cell_type": "code",
      "source": [
        "False or False #or 연산자는 둘 중 하나라도 True면 True임"
      ],
      "metadata": {
        "colab": {
          "base_uri": "https://localhost:8080/"
        },
        "id": "fhJnWU3RsBZ7",
        "outputId": "7cfc4cf4-35f3-4a30-a738-e30422946217"
      },
      "execution_count": null,
      "outputs": [
        {
          "output_type": "execute_result",
          "data": {
            "text/plain": [
              "False"
            ]
          },
          "metadata": {},
          "execution_count": 36
        }
      ]
    },
    {
      "cell_type": "code",
      "source": [
        "#not "
      ],
      "metadata": {
        "id": "lPyJ1rd3sESE"
      },
      "execution_count": null,
      "outputs": []
    },
    {
      "cell_type": "code",
      "source": [
        "not True "
      ],
      "metadata": {
        "colab": {
          "base_uri": "https://localhost:8080/"
        },
        "id": "BcKxiv14sPPZ",
        "outputId": "a1b0cead-47fa-4fc8-f29d-98b8f74ea539"
      },
      "execution_count": null,
      "outputs": [
        {
          "output_type": "execute_result",
          "data": {
            "text/plain": [
              "False"
            ]
          },
          "metadata": {},
          "execution_count": 38
        }
      ]
    },
    {
      "cell_type": "code",
      "source": [
        "not False #not 연산자는 논릿값을 뒤집음. "
      ],
      "metadata": {
        "colab": {
          "base_uri": "https://localhost:8080/"
        },
        "id": "VE__AZ1gsVYF",
        "outputId": "e308c388-f425-4bd6-90cb-a9d03d5192bc"
      },
      "execution_count": null,
      "outputs": [
        {
          "output_type": "execute_result",
          "data": {
            "text/plain": [
              "True"
            ]
          },
          "metadata": {},
          "execution_count": 39
        }
      ]
    },
    {
      "cell_type": "code",
      "source": [
        "not True and False or not False \n",
        "# not True and False = False and False 가 됨 이것은 곧 False이기에 False or not false(true)를 판단하면\n",
        "#최종적으로 True가 됨 >>>괄호로 하면? ((not True) and False) or (not False)"
      ],
      "metadata": {
        "colab": {
          "base_uri": "https://localhost:8080/"
        },
        "id": "Yn8KbFMHsWtn",
        "outputId": "aa46c0c1-5e41-43d3-bcfd-626f23e4543e"
      },
      "execution_count": null,
      "outputs": [
        {
          "output_type": "execute_result",
          "data": {
            "text/plain": [
              "True"
            ]
          },
          "metadata": {},
          "execution_count": 41
        }
      ]
    },
    {
      "cell_type": "code",
      "source": [
        "#논리 연산자와 비교 연산자를 함께 사용하기"
      ],
      "metadata": {
        "id": "z-ajDxwoshlP"
      },
      "execution_count": null,
      "outputs": []
    },
    {
      "cell_type": "code",
      "source": [
        "10 == 10 and 10 != 5  # = True and True"
      ],
      "metadata": {
        "colab": {
          "base_uri": "https://localhost:8080/"
        },
        "id": "37bL7y05uECF",
        "outputId": "ce05022a-880b-47df-cd5f-c0f91c6fed3c"
      },
      "execution_count": null,
      "outputs": [
        {
          "output_type": "execute_result",
          "data": {
            "text/plain": [
              "True"
            ]
          },
          "metadata": {},
          "execution_count": 44
        }
      ]
    },
    {
      "cell_type": "code",
      "source": [
        "10 > 5 or 10 < 3      #True or False"
      ],
      "metadata": {
        "colab": {
          "base_uri": "https://localhost:8080/"
        },
        "id": "w5uNERoIujDp",
        "outputId": "bf4f1b8b-2679-42ca-a269-c5be94e71488"
      },
      "execution_count": null,
      "outputs": [
        {
          "output_type": "execute_result",
          "data": {
            "text/plain": [
              "True"
            ]
          },
          "metadata": {},
          "execution_count": 46
        }
      ]
    },
    {
      "cell_type": "code",
      "source": [
        "#정수, 실수, 문자열을 불로 만들기 (참고)"
      ],
      "metadata": {
        "id": "Hq6K-GPiusg1"
      },
      "execution_count": null,
      "outputs": []
    },
    {
      "cell_type": "code",
      "source": [
        "#정수 1은 True, 정수 0은 False. boo1(1) 또는 bool(0)의 형식\n",
        "\n",
        "bool(1)"
      ],
      "metadata": {
        "colab": {
          "base_uri": "https://localhost:8080/"
        },
        "id": "cyaO4Oz3vIG3",
        "outputId": "435f0b3c-60bb-487e-dc88-716aba786aab"
      },
      "execution_count": null,
      "outputs": [
        {
          "output_type": "execute_result",
          "data": {
            "text/plain": [
              "True"
            ]
          },
          "metadata": {},
          "execution_count": 48
        }
      ]
    },
    {
      "cell_type": "code",
      "source": [
        "bool(0)"
      ],
      "metadata": {
        "colab": {
          "base_uri": "https://localhost:8080/"
        },
        "id": "U6g958svv7HK",
        "outputId": "cf221f61-369d-4a0a-840a-6c6342b33527"
      },
      "execution_count": null,
      "outputs": [
        {
          "output_type": "execute_result",
          "data": {
            "text/plain": [
              "False"
            ]
          },
          "metadata": {},
          "execution_count": 49
        }
      ]
    },
    {
      "cell_type": "code",
      "source": [
        "bool('abcd') #빈 문자열 ' ' 이나 \" 을 제외한 모든 문자열은 True"
      ],
      "metadata": {
        "colab": {
          "base_uri": "https://localhost:8080/"
        },
        "id": "LEro_0Oav_vh",
        "outputId": "33678506-87ba-449d-8306-2c066be28d1a"
      },
      "execution_count": null,
      "outputs": [
        {
          "output_type": "execute_result",
          "data": {
            "text/plain": [
              "True"
            ]
          },
          "metadata": {},
          "execution_count": 52
        }
      ]
    },
    {
      "cell_type": "code",
      "source": [
        "bool(1545564511) #정수 0, 실수 0.0을 제외한 모든 숫자는 True"
      ],
      "metadata": {
        "colab": {
          "base_uri": "https://localhost:8080/"
        },
        "id": "8E7u1R8cwEZ3",
        "outputId": "620420c8-1e4a-4cb1-95bf-230ecae8c65b"
      },
      "execution_count": null,
      "outputs": [
        {
          "output_type": "execute_result",
          "data": {
            "text/plain": [
              "True"
            ]
          },
          "metadata": {},
          "execution_count": 54
        }
      ]
    },
    {
      "cell_type": "markdown",
      "source": [
        "8-4 연습문제"
      ],
      "metadata": {
        "id": "LzUfhmhxu99g"
      }
    },
    {
      "cell_type": "code",
      "source": [
        "korean = 92\n",
        "english = 47\n",
        "mathematics = 86\n",
        "science = 81\n",
        "\n",
        "print(korean >= 50 and english >= 50 and mathematics >= 50 and science >= 50)"
      ],
      "metadata": {
        "colab": {
          "base_uri": "https://localhost:8080/"
        },
        "id": "WhA90Hdwy8eM",
        "outputId": "a4d2c44a-de27-461b-e040-f739ca455614"
      },
      "execution_count": null,
      "outputs": [
        {
          "output_type": "stream",
          "name": "stdout",
          "text": [
            "False\n"
          ]
        }
      ]
    },
    {
      "cell_type": "markdown",
      "source": [
        "8-5 심사문제"
      ],
      "metadata": {
        "id": "8e8nLwPKvA6_"
      }
    },
    {
      "cell_type": "code",
      "source": [
        "국어, 영어, 수학, 과학 = map(int,input().split())\n",
        "print(국어 >= 90 and 영어> 80 and 수학 >= 85 and 과학 >= 80)\n",
        "\n",
        "#input으로 입력하면 문자열로 들어가기에 map에 int를 사용하여 정수로 변환.\n"
      ],
      "metadata": {
        "colab": {
          "base_uri": "https://localhost:8080/"
        },
        "outputId": "4d74bae0-20a7-44ea-ed9e-844066c9b973",
        "id": "fOZB9FUet_xH"
      },
      "execution_count": null,
      "outputs": [
        {
          "output_type": "stream",
          "name": "stdout",
          "text": [
            "90 80 85 80\n",
            "False\n"
          ]
        }
      ]
    },
    {
      "cell_type": "markdown",
      "source": [
        "unit 9-1"
      ],
      "metadata": {
        "id": "Hh3KyXdhwD5n"
      }
    },
    {
      "cell_type": "code",
      "source": [
        "hello = 'Hello, world!'\n",
        "hello"
      ],
      "metadata": {
        "colab": {
          "base_uri": "https://localhost:8080/",
          "height": 36
        },
        "id": "5KIi2FWCPPyw",
        "outputId": "0dfcdb5c-d978-4f77-be3b-cbf7fb6e80cf"
      },
      "execution_count": null,
      "outputs": [
        {
          "output_type": "execute_result",
          "data": {
            "text/plain": [
              "'Hello, world!'"
            ],
            "application/vnd.google.colaboratory.intrinsic+json": {
              "type": "string"
            }
          },
          "metadata": {},
          "execution_count": 5
        }
      ]
    },
    {
      "cell_type": "code",
      "source": [
        "hello = '안녕하세요'\n",
        "hello"
      ],
      "metadata": {
        "id": "1Qv7P2UNPidK",
        "colab": {
          "base_uri": "https://localhost:8080/",
          "height": 36
        },
        "outputId": "5f515de3-2def-40ee-9df6-07f787479587"
      },
      "execution_count": null,
      "outputs": [
        {
          "output_type": "execute_result",
          "data": {
            "text/plain": [
              "'안녕하세요'"
            ],
            "application/vnd.google.colaboratory.intrinsic+json": {
              "type": "string"
            }
          },
          "metadata": {},
          "execution_count": 7
        }
      ]
    },
    {
      "cell_type": "code",
      "source": [
        "hello = \"hello world\"\n",
        "hello"
      ],
      "metadata": {
        "colab": {
          "base_uri": "https://localhost:8080/",
          "height": 36
        },
        "id": "-aXntMw4wX_Q",
        "outputId": "c30c94c5-1a62-4806-cb3c-544a8f129c51"
      },
      "execution_count": null,
      "outputs": [
        {
          "output_type": "execute_result",
          "data": {
            "text/plain": [
              "'hello world'"
            ],
            "application/vnd.google.colaboratory.intrinsic+json": {
              "type": "string"
            }
          },
          "metadata": {},
          "execution_count": 8
        }
      ]
    },
    {
      "cell_type": "code",
      "source": [
        "hello = '''작은따옴표로 묶기'''\n",
        "hello"
      ],
      "metadata": {
        "colab": {
          "base_uri": "https://localhost:8080/",
          "height": 36
        },
        "id": "g3wPBhIvwfuW",
        "outputId": "495ed8e9-1bc4-4b3b-f521-7917659f8e9c"
      },
      "execution_count": null,
      "outputs": [
        {
          "output_type": "execute_result",
          "data": {
            "text/plain": [
              "'작은따옴표로 묶기'"
            ],
            "application/vnd.google.colaboratory.intrinsic+json": {
              "type": "string"
            }
          },
          "metadata": {},
          "execution_count": 10
        }
      ]
    },
    {
      "cell_type": "code",
      "source": [
        "hello = \"\"\"큰따옴표로 묶기\"\"\"\n",
        "hello"
      ],
      "metadata": {
        "colab": {
          "base_uri": "https://localhost:8080/",
          "height": 36
        },
        "id": "xM9UUBphwl8l",
        "outputId": "3562c914-24f2-4d95-bd35-686ef63cb05c"
      },
      "execution_count": null,
      "outputs": [
        {
          "output_type": "execute_result",
          "data": {
            "text/plain": [
              "'큰따옴표로 묶기'"
            ],
            "application/vnd.google.colaboratory.intrinsic+json": {
              "type": "string"
            }
          },
          "metadata": {},
          "execution_count": 11
        }
      ]
    },
    {
      "cell_type": "code",
      "source": [
        "hello = '''Hello, world! \n",
        "안녕하세요.\n",
        "gutten tag!\n",
        "python입니다.'''\n",
        "\n",
        "hello #\"\"\"\" 또는 '''로 문자열 시작하고 엔터치면 여러줄 문자열 작성가능"
      ],
      "metadata": {
        "colab": {
          "base_uri": "https://localhost:8080/",
          "height": 36
        },
        "id": "pwRQO__Ews3t",
        "outputId": "80fcd7df-c479-4e94-e1d2-4e2c0be9c8a7"
      },
      "execution_count": null,
      "outputs": [
        {
          "output_type": "execute_result",
          "data": {
            "text/plain": [
              "'Hello, world! \\n안녕하세요.\\ngutten tag!\\npython입니다.'"
            ],
            "application/vnd.google.colaboratory.intrinsic+json": {
              "type": "string"
            }
          },
          "metadata": {},
          "execution_count": 13
        }
      ]
    },
    {
      "cell_type": "code",
      "source": [],
      "metadata": {
        "id": "B44FO0YwxAp-"
      },
      "execution_count": null,
      "outputs": []
    }
  ]
}