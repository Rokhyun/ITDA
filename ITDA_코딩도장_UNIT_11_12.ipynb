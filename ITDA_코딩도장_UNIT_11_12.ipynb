{
  "nbformat": 4,
  "nbformat_minor": 0,
  "metadata": {
    "colab": {
      "provenance": [],
      "collapsed_sections": [],
      "authorship_tag": "ABX9TyPfBjTgAhwMPMUSE74SC5vc",
      "include_colab_link": true
    },
    "kernelspec": {
      "name": "python3",
      "display_name": "Python 3"
    },
    "language_info": {
      "name": "python"
    }
  },
  "cells": [
    {
      "cell_type": "markdown",
      "metadata": {
        "id": "view-in-github",
        "colab_type": "text"
      },
      "source": [
        "<a href=\"https://colab.research.google.com/github/Rokhyun/ITDA/blob/main/ITDA_%EC%BD%94%EB%94%A9%EB%8F%84%EC%9E%A5_UNIT_11_12.ipynb\" target=\"_parent\"><img src=\"https://colab.research.google.com/assets/colab-badge.svg\" alt=\"Open In Colab\"/></a>"
      ]
    },
    {
      "cell_type": "markdown",
      "source": [
        "###UNIT 11 시퀸스 자료형 활용하기\n",
        "\n",
        "\n",
        "\n"
      ],
      "metadata": {
        "id": "QtXbAVX3Id4Y"
      }
    },
    {
      "cell_type": "code",
      "execution_count": null,
      "metadata": {
        "id": "mq-2l5LSCR7c"
      },
      "outputs": [],
      "source": [
        "#시퀸스 자료형=값이 연속적으로 이루어짐. 리스트 튜플 range 문자열...."
      ]
    },
    {
      "cell_type": "markdown",
      "source": [
        "11-1-1 특정 값 있는지 확인"
      ],
      "metadata": {
        "id": "Fi7J1rxyKK8A"
      }
    },
    {
      "cell_type": "code",
      "source": [
        "#시퀸스 객체 안에 특정 값이 있는지 확인하기 in a\n",
        "\n",
        "a = [0, 10, 20, 30, 40, 50, 60, 70, 80, 90]\n",
        "30 in a\n",
        "\n",
        "100 in a"
      ],
      "metadata": {
        "colab": {
          "base_uri": "https://localhost:8080/"
        },
        "id": "5fg3GV6JIul7",
        "outputId": "141f68d8-f168-4d9f-bca6-4b541f988c3f"
      },
      "execution_count": null,
      "outputs": [
        {
          "output_type": "execute_result",
          "data": {
            "text/plain": [
              "False"
            ]
          },
          "metadata": {},
          "execution_count": 4
        }
      ]
    },
    {
      "cell_type": "code",
      "source": [
        "#반대로? not in a\n",
        "\n",
        "a = [0, 10, 20, 30, 40, 50, 60, 70, 80, 90]\n",
        "30 not in a\n",
        "\n",
        "100 not in a"
      ],
      "metadata": {
        "colab": {
          "base_uri": "https://localhost:8080/"
        },
        "id": "eA80PmB9JTYh",
        "outputId": "e8ba8e64-2a20-47b8-c2ad-0d5531f5d3c5"
      },
      "execution_count": null,
      "outputs": [
        {
          "output_type": "execute_result",
          "data": {
            "text/plain": [
              "True"
            ]
          },
          "metadata": {},
          "execution_count": 8
        }
      ]
    },
    {
      "cell_type": "code",
      "source": [
        "#튜플, range, 문자열에서도 가능\n",
        "\n",
        "43 in (38,76,43,62,19)\n",
        "\n",
        "1 in range(10)\n",
        "\n",
        "'P' in 'hello, Python'\n",
        "\n"
      ],
      "metadata": {
        "colab": {
          "base_uri": "https://localhost:8080/"
        },
        "id": "2dZmgrYOJhWB",
        "outputId": "6af7344b-7601-4d38-ab5f-85cdac84e16f"
      },
      "execution_count": null,
      "outputs": [
        {
          "output_type": "execute_result",
          "data": {
            "text/plain": [
              "True"
            ]
          },
          "metadata": {},
          "execution_count": 11
        }
      ]
    },
    {
      "cell_type": "markdown",
      "source": [
        "11-1-2 시퀸스 객체 연결하기"
      ],
      "metadata": {
        "id": "MRlqNB-VKPfw"
      }
    },
    {
      "cell_type": "code",
      "source": [
        "#시퀸스 객체는 + 연산자를 통해 연결, 새 객체 생성"
      ],
      "metadata": {
        "id": "tbkG1JT1JxJe"
      },
      "execution_count": null,
      "outputs": []
    },
    {
      "cell_type": "code",
      "source": [
        "#시퀸스 객체 1 + 시퀸스 객체 2\n",
        "\n",
        "a = [0, 10, 20, 30]\n",
        "b = [9, 8, 7, 6]\n",
        "a+b"
      ],
      "metadata": {
        "colab": {
          "base_uri": "https://localhost:8080/"
        },
        "id": "7PAxWPD8Kd8p",
        "outputId": "56692ac5-dcd2-4489-f772-bb21127efe6f"
      },
      "execution_count": null,
      "outputs": [
        {
          "output_type": "execute_result",
          "data": {
            "text/plain": [
              "[0, 10, 20, 30, 9, 8, 7, 6]"
            ]
          },
          "metadata": {},
          "execution_count": 13
        }
      ]
    },
    {
      "cell_type": "code",
      "source": [
        "#range는 +로 연결할수없음\n",
        "\n",
        "range(0,10)+range(10,20)"
      ],
      "metadata": {
        "colab": {
          "base_uri": "https://localhost:8080/",
          "height": 213
        },
        "id": "olFGJu78KoTb",
        "outputId": "6e4e6942-174d-40c9-9962-21c467ae60ae"
      },
      "execution_count": null,
      "outputs": [
        {
          "output_type": "error",
          "ename": "TypeError",
          "evalue": "ignored",
          "traceback": [
            "\u001b[0;31m---------------------------------------------------------------------------\u001b[0m",
            "\u001b[0;31mTypeError\u001b[0m                                 Traceback (most recent call last)",
            "\u001b[0;32m<ipython-input-14-b5dee5adf857>\u001b[0m in \u001b[0;36m<module>\u001b[0;34m\u001b[0m\n\u001b[1;32m      1\u001b[0m \u001b[0;31m#range는 +로 연결할수없음\u001b[0m\u001b[0;34m\u001b[0m\u001b[0;34m\u001b[0m\u001b[0;34m\u001b[0m\u001b[0m\n\u001b[1;32m      2\u001b[0m \u001b[0;34m\u001b[0m\u001b[0m\n\u001b[0;32m----> 3\u001b[0;31m \u001b[0mrange\u001b[0m\u001b[0;34m(\u001b[0m\u001b[0;36m0\u001b[0m\u001b[0;34m,\u001b[0m\u001b[0;36m10\u001b[0m\u001b[0;34m)\u001b[0m\u001b[0;34m+\u001b[0m\u001b[0mrange\u001b[0m\u001b[0;34m(\u001b[0m\u001b[0;36m10\u001b[0m\u001b[0;34m,\u001b[0m\u001b[0;36m20\u001b[0m\u001b[0;34m)\u001b[0m\u001b[0;34m\u001b[0m\u001b[0;34m\u001b[0m\u001b[0m\n\u001b[0m",
            "\u001b[0;31mTypeError\u001b[0m: unsupported operand type(s) for +: 'range' and 'range'"
          ]
        }
      ]
    },
    {
      "cell_type": "code",
      "source": [
        "#>>> range를 리스트 또는 튜플로 만들어서 연결\n",
        "\n",
        "list(range(0,10))+list(range(10,20))"
      ],
      "metadata": {
        "colab": {
          "base_uri": "https://localhost:8080/"
        },
        "id": "83KeirjUKwVR",
        "outputId": "669175a9-7598-42cd-9b86-4e863f26fa15"
      },
      "execution_count": null,
      "outputs": [
        {
          "output_type": "execute_result",
          "data": {
            "text/plain": [
              "(0, 1, 2, 3, 4, 5, 6, 7, 8, 9, 10, 11, 12, 13, 14, 15, 16, 17, 18)"
            ]
          },
          "metadata": {},
          "execution_count": 19
        }
      ]
    },
    {
      "cell_type": "code",
      "source": [
        "tuple(range(0,10))+tuple(range(10,20))"
      ],
      "metadata": {
        "colab": {
          "base_uri": "https://localhost:8080/"
        },
        "id": "3kMlMRqxK9CX",
        "outputId": "fe580ccf-d4cc-476b-ed67-eeb39b5b4636"
      },
      "execution_count": null,
      "outputs": [
        {
          "output_type": "execute_result",
          "data": {
            "text/plain": [
              "(0, 1, 2, 3, 4, 5, 6, 7, 8, 9, 10, 11, 12, 13, 14, 15, 16, 17, 18, 19)"
            ]
          },
          "metadata": {},
          "execution_count": 20
        }
      ]
    },
    {
      "cell_type": "code",
      "source": [
        "#문자열은 그냥 가능\n",
        "\n",
        "'H' + 'E' + 'LL' + 'o'"
      ],
      "metadata": {
        "colab": {
          "base_uri": "https://localhost:8080/",
          "height": 36
        },
        "id": "z7Ms1f2fLMZM",
        "outputId": "1306f516-afb3-4840-8b62-10a02db66f48"
      },
      "execution_count": null,
      "outputs": [
        {
          "output_type": "execute_result",
          "data": {
            "text/plain": [
              "'HELLo'"
            ],
            "application/vnd.google.colaboratory.intrinsic+json": {
              "type": "string"
            }
          },
          "metadata": {},
          "execution_count": 21
        }
      ]
    },
    {
      "cell_type": "code",
      "source": [
        "#문자열에 숫자를 연결하면 오류가 생김, 타입이 달라서 \n",
        "#str로 숫자(정,실수)를 문자열로 변경하면 됨.\n",
        "\n",
        "'Hello'+str(99)"
      ],
      "metadata": {
        "colab": {
          "base_uri": "https://localhost:8080/",
          "height": 36
        },
        "id": "vqSaUyYCLT_o",
        "outputId": "58f3c1eb-c18a-4e06-c8b4-5476bf91150e"
      },
      "execution_count": null,
      "outputs": [
        {
          "output_type": "execute_result",
          "data": {
            "text/plain": [
              "'Hello99'"
            ],
            "application/vnd.google.colaboratory.intrinsic+json": {
              "type": "string"
            }
          },
          "metadata": {},
          "execution_count": 22
        }
      ]
    },
    {
      "cell_type": "markdown",
      "source": [
        "11-1-3 시퀸스 객체 반복"
      ],
      "metadata": {
        "id": "myXs7VLoLkaa"
      }
    },
    {
      "cell_type": "code",
      "source": [
        "#*연산자로 반복하여 새 객체 만든다. 0 또는 음수 곱하면 빈 객체 나오고 실수는 곱할 수 없음."
      ],
      "metadata": {
        "id": "88TQxyvYLica"
      },
      "execution_count": null,
      "outputs": []
    },
    {
      "cell_type": "code",
      "source": [
        "#정수*시퀸스 or 시퀸스*정수 가능\n",
        "\n",
        "[0,10,20,30] * 3"
      ],
      "metadata": {
        "colab": {
          "base_uri": "https://localhost:8080/"
        },
        "id": "OI3dPvTqLy8i",
        "outputId": "363e03ae-93c3-41e0-a35f-9599ab242b74"
      },
      "execution_count": null,
      "outputs": [
        {
          "output_type": "execute_result",
          "data": {
            "text/plain": [
              "[0, 10, 20, 30, 0, 10, 20, 30, 0, 10, 20, 30]"
            ]
          },
          "metadata": {},
          "execution_count": 24
        }
      ]
    },
    {
      "cell_type": "code",
      "source": [
        "#range는 +와 마찬가지로 * 안먹힘. 리스트 튜플로 변환시 가능.\n",
        "\n",
        "range(0,5,2) * 3"
      ],
      "metadata": {
        "colab": {
          "base_uri": "https://localhost:8080/",
          "height": 213
        },
        "id": "gJyYfAjeL-nk",
        "outputId": "6d08aa42-e470-4b0e-8c6c-e04ae0413302"
      },
      "execution_count": null,
      "outputs": [
        {
          "output_type": "error",
          "ename": "TypeError",
          "evalue": "ignored",
          "traceback": [
            "\u001b[0;31m---------------------------------------------------------------------------\u001b[0m",
            "\u001b[0;31mTypeError\u001b[0m                                 Traceback (most recent call last)",
            "\u001b[0;32m<ipython-input-26-aa32898c5148>\u001b[0m in \u001b[0;36m<module>\u001b[0;34m\u001b[0m\n\u001b[1;32m      1\u001b[0m \u001b[0;31m#range는 +와 마찬가지로 * 안먹힘. 리스트 튜플로 변환시 가능.\u001b[0m\u001b[0;34m\u001b[0m\u001b[0;34m\u001b[0m\u001b[0;34m\u001b[0m\u001b[0m\n\u001b[1;32m      2\u001b[0m \u001b[0;34m\u001b[0m\u001b[0m\n\u001b[0;32m----> 3\u001b[0;31m \u001b[0mrange\u001b[0m\u001b[0;34m(\u001b[0m\u001b[0;36m0\u001b[0m\u001b[0;34m,\u001b[0m\u001b[0;36m5\u001b[0m\u001b[0;34m,\u001b[0m\u001b[0;36m2\u001b[0m\u001b[0;34m)\u001b[0m \u001b[0;34m*\u001b[0m \u001b[0;36m3\u001b[0m\u001b[0;34m\u001b[0m\u001b[0;34m\u001b[0m\u001b[0m\n\u001b[0m",
            "\u001b[0;31mTypeError\u001b[0m: unsupported operand type(s) for *: 'range' and 'int'"
          ]
        }
      ]
    },
    {
      "cell_type": "code",
      "source": [
        "list(range(0,5,2)) * 3"
      ],
      "metadata": {
        "colab": {
          "base_uri": "https://localhost:8080/"
        },
        "id": "QoXkIVRPMIP7",
        "outputId": "67ba51a1-ac09-471f-fd81-f2d5b52f4871"
      },
      "execution_count": null,
      "outputs": [
        {
          "output_type": "execute_result",
          "data": {
            "text/plain": [
              "[0, 2, 4, 0, 2, 4, 0, 2, 4]"
            ]
          },
          "metadata": {},
          "execution_count": 27
        }
      ]
    },
    {
      "cell_type": "code",
      "source": [
        "#문자열은 가능\n",
        "\n",
        "'안녕' * 3"
      ],
      "metadata": {
        "colab": {
          "base_uri": "https://localhost:8080/",
          "height": 36
        },
        "id": "AEZ4rj_bMPEc",
        "outputId": "c68ded75-3f57-48f3-b3be-89119f65149b"
      },
      "execution_count": null,
      "outputs": [
        {
          "output_type": "execute_result",
          "data": {
            "text/plain": [
              "'안녕안녕안녕'"
            ],
            "application/vnd.google.colaboratory.intrinsic+json": {
              "type": "string"
            }
          },
          "metadata": {},
          "execution_count": 28
        }
      ]
    },
    {
      "cell_type": "markdown",
      "source": [
        "11-2-1 리스트 튜플의 개수요소 "
      ],
      "metadata": {
        "id": "JKbLx61OMXT-"
      }
    },
    {
      "cell_type": "code",
      "source": [
        "#len() 이용\n",
        "\n",
        "a= [ 1,2,3,4,54,545]\n",
        "len(a)\n",
        "\n",
        "b= (1,23,4,213,2)\n",
        "len(b)"
      ],
      "metadata": {
        "colab": {
          "base_uri": "https://localhost:8080/"
        },
        "id": "j2a02MclMSlT",
        "outputId": "e81b70ee-05b7-45e6-eaf8-38939ed05871"
      },
      "execution_count": null,
      "outputs": [
        {
          "output_type": "execute_result",
          "data": {
            "text/plain": [
              "5"
            ]
          },
          "metadata": {},
          "execution_count": 30
        }
      ]
    },
    {
      "cell_type": "code",
      "source": [
        "#range에 len 쓰면 숫자 생성 개수를 구함.\n",
        "\n",
        "len(range(0, 10, 2)) #>>> 0부터 10까지 2개씩 증가 0,2,4,6,8"
      ],
      "metadata": {
        "colab": {
          "base_uri": "https://localhost:8080/"
        },
        "id": "To09J7bDMinT",
        "outputId": "32cf0127-9948-4aec-8eed-aac7ac9f4976"
      },
      "execution_count": null,
      "outputs": [
        {
          "output_type": "execute_result",
          "data": {
            "text/plain": [
              "5"
            ]
          },
          "metadata": {},
          "execution_count": 33
        }
      ]
    },
    {
      "cell_type": "code",
      "source": [
        "#문자열 길이도 len()이용\n",
        "\n",
        "len(\"PYthon\")"
      ],
      "metadata": {
        "colab": {
          "base_uri": "https://localhost:8080/"
        },
        "id": "SgpFUobGM0wn",
        "outputId": "1738111d-4a1d-4506-fd06-dc78f811d6df"
      },
      "execution_count": null,
      "outputs": [
        {
          "output_type": "execute_result",
          "data": {
            "text/plain": [
              "6"
            ]
          },
          "metadata": {},
          "execution_count": 37
        }
      ]
    },
    {
      "cell_type": "markdown",
      "source": [
        "11-3 인덱스 사용"
      ],
      "metadata": {
        "id": "j8DZZCJHNP9G"
      }
    },
    {
      "cell_type": "code",
      "source": [
        "#시퀸스의 요소에 접근. 객체에 [] 붙이고 지정하면 접근가능함.\n",
        "#시퀸스객체[인덱스] 이런식"
      ],
      "metadata": {
        "id": "hqe_b_a2NEEK"
      },
      "execution_count": null,
      "outputs": []
    },
    {
      "cell_type": "code",
      "source": [
        "a = [38, 21, 53, 62, 19]\n",
        "a[0]    # 리스트의 첫 번째(인덱스 0) 요소 출력>38\n",
        "a[2]    # 리스트의 세 번째(인덱스 2) 요소 출력>53\n",
        "a[4]    # 리스트의 다섯 번째(인덱스 4) 요소 출력>19"
      ],
      "metadata": {
        "colab": {
          "base_uri": "https://localhost:8080/"
        },
        "id": "_uMab1TUNgrC",
        "outputId": "6020a275-0c19-45c3-ed69-6bedd4604c05"
      },
      "execution_count": null,
      "outputs": [
        {
          "output_type": "execute_result",
          "data": {
            "text/plain": [
              "19"
            ]
          },
          "metadata": {},
          "execution_count": 41
        }
      ]
    },
    {
      "cell_type": "code",
      "source": [
        "#튜플, range도 [인덱스]로 가능.\n",
        "\n",
        "b = (38, 21, 53, 62, 19)\n",
        "b[0]               #튜플 첫번쨰(인덱스0)출력 >>> 38\n",
        "\n",
        "r = range(0,10,2)\n",
        "r[2]               #range 출력의 세 번째(인덱스 2) 출력 ==0,2,[4],6,8 중  4출력"
      ],
      "metadata": {
        "colab": {
          "base_uri": "https://localhost:8080/"
        },
        "id": "B1Ay4LG9NnKY",
        "outputId": "b1db4fd8-6c90-4417-aa1c-3e6fbdec2a68"
      },
      "execution_count": null,
      "outputs": [
        {
          "output_type": "execute_result",
          "data": {
            "text/plain": [
              "4"
            ]
          },
          "metadata": {},
          "execution_count": 45
        }
      ]
    },
    {
      "cell_type": "markdown",
      "source": [
        "11-3-1 음수 인덱스 지정하기"
      ],
      "metadata": {
        "id": "UpsLtzCDObez"
      }
    },
    {
      "cell_type": "code",
      "source": [
        "a = [38, 21, 53, 62, 19]\n",
        "a[-1]            #리스트 뒤에서 첫번째 출력"
      ],
      "metadata": {
        "colab": {
          "base_uri": "https://localhost:8080/"
        },
        "id": "IWUclpMbN99r",
        "outputId": "b8b0b9ef-0e84-43dc-f1fe-d51d5c93468d"
      },
      "execution_count": null,
      "outputs": [
        {
          "output_type": "execute_result",
          "data": {
            "text/plain": [
              "19"
            ]
          },
          "metadata": {},
          "execution_count": 47
        }
      ]
    },
    {
      "cell_type": "code",
      "source": [
        "#튜플도 동일함.\n"
      ],
      "metadata": {
        "id": "x92EtZQsOkRV"
      },
      "execution_count": null,
      "outputs": []
    },
    {
      "cell_type": "code",
      "source": [
        "#range 역시 같음.\n",
        "\n",
        "r = range(0, 10, 2) #>>>0.2.4.6.8 출력될것\n",
        "r[-3]               #이중 뒤에서 세번째 (인덱스 -3 ) 출력"
      ],
      "metadata": {
        "colab": {
          "base_uri": "https://localhost:8080/"
        },
        "id": "f1TYwwHiOyoL",
        "outputId": "ab6a21aa-ff73-4532-b515-9d5b82ce9464"
      },
      "execution_count": null,
      "outputs": [
        {
          "output_type": "execute_result",
          "data": {
            "text/plain": [
              "4"
            ]
          },
          "metadata": {},
          "execution_count": 51
        }
      ]
    },
    {
      "cell_type": "markdown",
      "source": [
        "11-3-4 요소에 값 할당하기"
      ],
      "metadata": {
        "id": "Sgd8-s_UPI80"
      }
    },
    {
      "cell_type": "code",
      "source": [
        "#[]로 접근 후 = 으로 할당함."
      ],
      "metadata": {
        "id": "fnezvo-PO4k-"
      },
      "execution_count": null,
      "outputs": []
    },
    {
      "cell_type": "code",
      "source": [
        "#리스트\n",
        "\n",
        "리스트 = [0,0,0,0,0] #0 5개 든 리스트\n",
        "a[0] = 1\n",
        "a[1] = 2\n",
        "a[2] = 100\n",
        "a[4] = 99\n",
        "a"
      ],
      "metadata": {
        "colab": {
          "base_uri": "https://localhost:8080/"
        },
        "id": "MLN1rdrtPPLP",
        "outputId": "1635e50e-197c-4ce2-c2c3-fa61f6c5275e"
      },
      "execution_count": null,
      "outputs": [
        {
          "output_type": "execute_result",
          "data": {
            "text/plain": [
              "[1, 2, 100, 62, 99]"
            ]
          },
          "metadata": {},
          "execution_count": 54
        }
      ]
    },
    {
      "cell_type": "markdown",
      "source": [
        "11-3-5 del로 요소 삭제하기"
      ],
      "metadata": {
        "id": "W2HNdcUTPjPQ"
      }
    },
    {
      "cell_type": "code",
      "source": [
        "#del a[] 꼴로 삭제함.\n"
      ],
      "metadata": {
        "id": "YcolX5kTPXBD"
      },
      "execution_count": null,
      "outputs": []
    },
    {
      "cell_type": "code",
      "source": [
        "#리스트만 가능\n",
        "\n",
        "a = [13213, 231, 2]\n",
        "del a[2] #세번째 요소(인덱스 2)삭제"
      ],
      "metadata": {
        "id": "miEhkjZaPtDp"
      },
      "execution_count": null,
      "outputs": []
    },
    {
      "cell_type": "code",
      "source": [
        "#튜플, range는 불가"
      ],
      "metadata": {
        "id": "pzpI2wU4Pw3S"
      },
      "execution_count": null,
      "outputs": []
    },
    {
      "cell_type": "code",
      "source": [
        "#문자열 가능"
      ],
      "metadata": {
        "id": "uZd1J7I2QAQ2"
      },
      "execution_count": null,
      "outputs": []
    },
    {
      "cell_type": "markdown",
      "source": [
        "11-4 슬라이스"
      ],
      "metadata": {
        "id": "0QGuH2NwQZu3"
      }
    },
    {
      "cell_type": "code",
      "source": [
        "#[]안에 시작과 끝 지정하여 가져옴\n",
        "#[2:4] 꼴로\n",
        "# \"끝 인덱스는 가져오지 않음[1:5]면 1-4까지 함. 하나 더 해야 똑바로 됨\"\n",
        "\n",
        "a = [0, 10, 20, 30, 40, 50, 60, 70, 80, 90]\n",
        "a[0:4] #이렇게 인덱스 0-3까지 함. "
      ],
      "metadata": {
        "colab": {
          "base_uri": "https://localhost:8080/"
        },
        "id": "4z6x3ajzQBCL",
        "outputId": "aecbf74d-d758-4528-fa9a-4a5980fc9778"
      },
      "execution_count": null,
      "outputs": [
        {
          "output_type": "execute_result",
          "data": {
            "text/plain": [
              "[0, 10, 20, 30]"
            ]
          },
          "metadata": {},
          "execution_count": 66
        }
      ]
    },
    {
      "cell_type": "code",
      "source": [
        "#중간부터 가져오려면 이렇게\n",
        "\n",
        "a[4:7] #인덱 4부터 6까지 "
      ],
      "metadata": {
        "colab": {
          "base_uri": "https://localhost:8080/"
        },
        "id": "kEr7iXdgQj6z",
        "outputId": "768e3137-9f55-445b-f835-861e50b6cbec"
      },
      "execution_count": null,
      "outputs": [
        {
          "output_type": "execute_result",
          "data": {
            "text/plain": [
              "[40, 50, 60]"
            ]
          },
          "metadata": {},
          "execution_count": 68
        }
      ]
    },
    {
      "cell_type": "code",
      "source": [
        "#증가폭 사용하며?\n",
        "\n",
        "a[1:10:4] \n",
        "#인덱 1부터 10까지 4씩 증가하며 가져옴"
      ],
      "metadata": {
        "colab": {
          "base_uri": "https://localhost:8080/"
        },
        "id": "B8u244x9RCmM",
        "outputId": "2f2f7f70-f12c-44c1-abba-3dec9219abc6"
      },
      "execution_count": null,
      "outputs": [
        {
          "output_type": "execute_result",
          "data": {
            "text/plain": [
              "[10, 50, 90]"
            ]
          },
          "metadata": {},
          "execution_count": 70
        }
      ]
    },
    {
      "cell_type": "code",
      "source": [
        "#생략\n",
        "#첨부터 끝 하려면\n",
        "\n",
        "a[:4] "
      ],
      "metadata": {
        "colab": {
          "base_uri": "https://localhost:8080/"
        },
        "id": "qESKZPRPRNr8",
        "outputId": "00b1a834-4f2e-43d7-aa9e-ebe371609c50"
      },
      "execution_count": null,
      "outputs": [
        {
          "output_type": "execute_result",
          "data": {
            "text/plain": [
              "[0, 10, 20, 30]"
            ]
          },
          "metadata": {},
          "execution_count": 71
        }
      ]
    },
    {
      "cell_type": "markdown",
      "source": [
        "11-4-5 len 응용하여 가져오기"
      ],
      "metadata": {
        "id": "FJXUV2QCRiM6"
      }
    },
    {
      "cell_type": "code",
      "source": [
        "a = [0, 10, 20, 30, 40, 50, 60, 70, 80, 90]\n",
        "a[0:len(a)]\n",
        "\n",
        "#a요소는 10개임. len(a)는 10이고 이는 a[0:10]과 같은 의미임."
      ],
      "metadata": {
        "colab": {
          "base_uri": "https://localhost:8080/"
        },
        "id": "WlIYKRE8Rr2o",
        "outputId": "cf3ff71c-a700-4caa-ead7-0ab926c6f04e"
      },
      "execution_count": null,
      "outputs": [
        {
          "output_type": "execute_result",
          "data": {
            "text/plain": [
              "[0, 10, 20, 30, 40, 50, 60, 70, 80, 90]"
            ]
          },
          "metadata": {},
          "execution_count": 73
        }
      ]
    },
    {
      "cell_type": "code",
      "source": [
        "#range에 슬라이스\n",
        "\n",
        "r = range(10)\n",
        "r\n",
        "\n",
        "r[4:7]\n",
        "r[4:]"
      ],
      "metadata": {
        "colab": {
          "base_uri": "https://localhost:8080/"
        },
        "id": "Mz2It7MRSGWX",
        "outputId": "0d1d7560-1a2a-4de8-f643-81620b540372"
      },
      "execution_count": null,
      "outputs": [
        {
          "output_type": "execute_result",
          "data": {
            "text/plain": [
              "range(4, 10)"
            ]
          },
          "metadata": {},
          "execution_count": 78
        }
      ]
    },
    {
      "cell_type": "markdown",
      "source": [
        "11.6 연습문제"
      ],
      "metadata": {
        "id": "KkhAloHiTQpD"
      }
    },
    {
      "cell_type": "code",
      "source": [
        "year = [2011, 2012, 2013, 2014, 2015, 2016, 2017, 2018]\n",
        "population = [10249679, 10195318, 10143645, 10103233, 10022181, 9930616, 9857426, 9838892]\n",
        "\n",
        "print(year[-3:])\n",
        "print(population[-3:])"
      ],
      "metadata": {
        "colab": {
          "base_uri": "https://localhost:8080/"
        },
        "id": "3faaWZ9ESRn5",
        "outputId": "451ba7a8-9412-49dd-f345-e18b89ecdc85"
      },
      "execution_count": null,
      "outputs": [
        {
          "output_type": "stream",
          "name": "stdout",
          "text": [
            "[2016, 2017, 2018]\n",
            "[9930616, 9857426, 9838892]\n"
          ]
        }
      ]
    },
    {
      "cell_type": "markdown",
      "source": [
        "11.8 심사문제"
      ],
      "metadata": {
        "id": "zZVn1L9nTnFC"
      }
    },
    {
      "cell_type": "code",
      "source": [
        "x = input().split()\n",
        "del x[-5:]\n",
        "print(tuple(x))"
      ],
      "metadata": {
        "colab": {
          "base_uri": "https://localhost:8080/"
        },
        "id": "l233U-oiTlOB",
        "outputId": "5b4f6b19-b685-4d47-b819-d8bec8b98d29"
      },
      "execution_count": null,
      "outputs": [
        {
          "output_type": "stream",
          "name": "stdout",
          "text": [
            "oven bat pony total leak wreck curl crop space navy loss knee\n",
            "('oven', 'bat', 'pony', 'total', 'leak', 'wreck', 'curl')\n"
          ]
        }
      ]
    },
    {
      "cell_type": "markdown",
      "source": [
        "11.9 심사문제"
      ],
      "metadata": {
        "id": "Oe-WBa2DWtcS"
      }
    },
    {
      "cell_type": "code",
      "source": [
        "a = input()\n",
        "b = input()\n",
        "a = (a[1::2])\n",
        "b = (b[::2])\n",
        "print(a+b)\n",
        "\n"
      ],
      "metadata": {
        "colab": {
          "base_uri": "https://localhost:8080/"
        },
        "id": "fUSc46dpZUUi",
        "outputId": "0326d768-0729-42b7-93ed-094688de232e"
      },
      "execution_count": null,
      "outputs": [
        {
          "output_type": "stream",
          "name": "stdout",
          "text": [
            "python\n",
            "python\n",
            "yhnpto\n"
          ]
        }
      ]
    },
    {
      "cell_type": "markdown",
      "source": [
        "###UNIT 12 딕셔너리"
      ],
      "metadata": {
        "id": "NiEJ9gT1cO3G"
      }
    },
    {
      "cell_type": "code",
      "source": [
        "#여러 값을 묶어서 저장하는 용도로 딕셔너리 자료형"
      ],
      "metadata": {
        "id": "pt43w9YUZ-VA"
      },
      "execution_count": null,
      "outputs": []
    },
    {
      "cell_type": "code",
      "source": [
        "#캐릭터 럭스의 능력\n",
        "\n",
        "lux = {'health':490, 'mana':44,'amor':18.72}"
      ],
      "metadata": {
        "id": "_mQzWMN6cfs4"
      },
      "execution_count": null,
      "outputs": []
    },
    {
      "cell_type": "code",
      "source": [
        "#딕셔너리는 {중괄호}안에 키:값으로 저장함. ,콤마로 구분.\n",
        "#딕셔너리 = {키1: 값1, 키2: 값2}\n",
        "\n",
        "lux = {'health': 490, 'mana': 334, 'melee': 550, 'armor': 18.72}\n",
        "\n",
        "#or dict()안에 넣기\n",
        "\n",
        "lux1 = dict(health=490, mana=334, melee=550, armor=18.72)  "
      ],
      "metadata": {
        "id": "D2flpLUxcwxH"
      },
      "execution_count": null,
      "outputs": []
    },
    {
      "cell_type": "markdown",
      "source": [
        "12-1-3 빈 딕셔너리 만들기"
      ],
      "metadata": {
        "id": "uq5aO0CedIWJ"
      }
    },
    {
      "cell_type": "code",
      "source": [
        "#딕셔너리명 = {}\n",
        "#or\n",
        "#딕셔너리 = dict()\n",
        "\n",
        "x = {}\n",
        "x\n",
        "\n",
        "y = dict()\n",
        "y\n"
      ],
      "metadata": {
        "colab": {
          "base_uri": "https://localhost:8080/"
        },
        "id": "xyI4URRqc-3I",
        "outputId": "7e3e0577-10dd-41f6-c58f-968b61b6b95a"
      },
      "execution_count": null,
      "outputs": [
        {
          "output_type": "execute_result",
          "data": {
            "text/plain": [
              "{}"
            ]
          },
          "metadata": {},
          "execution_count": 129
        }
      ]
    },
    {
      "cell_type": "markdown",
      "source": [
        "12-2-1 딕셔너리 키에 접근"
      ],
      "metadata": {
        "id": "L5BnSneYdnAN"
      }
    },
    {
      "cell_type": "code",
      "source": [
        "#딕셔너리 뒤에 [대괄호] 사용, 안에 키 넣기\n",
        "#딕셔너리[키]\n",
        "\n",
        "lux['armor']"
      ],
      "metadata": {
        "colab": {
          "base_uri": "https://localhost:8080/"
        },
        "id": "3q8GkQgddEIa",
        "outputId": "c4b618ef-5fc3-4b6f-94f9-c82787168fac"
      },
      "execution_count": null,
      "outputs": [
        {
          "output_type": "execute_result",
          "data": {
            "text/plain": [
              "18.72"
            ]
          },
          "metadata": {},
          "execution_count": 134
        }
      ]
    },
    {
      "cell_type": "markdown",
      "source": [
        "12-2-1.5 키에 할당하기"
      ],
      "metadata": {
        "id": "JbSPHYEod2b9"
      }
    },
    {
      "cell_type": "code",
      "source": [
        "#딕셔너리[키] = 값\n",
        "\n",
        "lux['health'] = 1\n",
        "lux"
      ],
      "metadata": {
        "colab": {
          "base_uri": "https://localhost:8080/"
        },
        "id": "wSRXXSt0dwRq",
        "outputId": "a71c93f9-2ca9-40e0-999b-f1740b1ecae3"
      },
      "execution_count": null,
      "outputs": [
        {
          "output_type": "execute_result",
          "data": {
            "text/plain": [
              "{'health': 1, 'mana': 334, 'melee': 550, 'armor': 18.72}"
            ]
          },
          "metadata": {},
          "execution_count": 136
        }
      ]
    },
    {
      "cell_type": "markdown",
      "source": [
        "12-2-2딕셔너리에 키 있는지 확인하기"
      ],
      "metadata": {
        "id": "P6TYpZ7qeD7c"
      }
    },
    {
      "cell_type": "code",
      "source": [
        "'health' in lux"
      ],
      "metadata": {
        "colab": {
          "base_uri": "https://localhost:8080/"
        },
        "id": "syaEcimCd_zk",
        "outputId": "e2b5bbdf-68e4-459b-ef35-cd1602628601"
      },
      "execution_count": null,
      "outputs": [
        {
          "output_type": "execute_result",
          "data": {
            "text/plain": [
              "True"
            ]
          },
          "metadata": {},
          "execution_count": 137
        }
      ]
    },
    {
      "cell_type": "code",
      "source": [
        "'attack speed' not in lux"
      ],
      "metadata": {
        "colab": {
          "base_uri": "https://localhost:8080/"
        },
        "id": "ZGTb2vTSeYwH",
        "outputId": "0849f326-0b6b-484d-ad92-aad9f88ff8d1"
      },
      "execution_count": null,
      "outputs": [
        {
          "output_type": "execute_result",
          "data": {
            "text/plain": [
              "True"
            ]
          },
          "metadata": {},
          "execution_count": 139
        }
      ]
    },
    {
      "cell_type": "markdown",
      "source": [
        "12-3 키 개수 구하기"
      ],
      "metadata": {
        "id": "G1f-jn5behFX"
      }
    },
    {
      "cell_type": "code",
      "source": [
        "len(lux)"
      ],
      "metadata": {
        "colab": {
          "base_uri": "https://localhost:8080/"
        },
        "id": "Nz65JsnyebyR",
        "outputId": "e10f396d-8c66-4e79-b444-c229e1974dc8"
      },
      "execution_count": null,
      "outputs": [
        {
          "output_type": "execute_result",
          "data": {
            "text/plain": [
              "4"
            ]
          },
          "metadata": {},
          "execution_count": 140
        }
      ]
    },
    {
      "cell_type": "markdown",
      "source": [
        "12-4 연습문제"
      ],
      "metadata": {
        "id": "c5O5ryfHfCty"
      }
    },
    {
      "cell_type": "code",
      "source": [
        "camille = {\n",
        "    'health': 575.6,\n",
        "    'health_regen': 1.7,\n",
        "    'mana': 338.8,\n",
        "    'mana_regen': 1.63,\n",
        "    'melee': 125,\n",
        "    'attack_damage': 60,\n",
        "    'attack_speed': 0.625,\n",
        "    'armor': 26,\n",
        "    'magic_resistance': 32.1,\n",
        "    'movement_speed': 340\n",
        "}\n",
        "\n",
        "print(camille['health'])\n",
        "print(camille['movement_speed'])"
      ],
      "metadata": {
        "colab": {
          "base_uri": "https://localhost:8080/"
        },
        "id": "P2CVfXW6eksu",
        "outputId": "06f61b0e-e661-431f-bdcf-bc86d9a39244"
      },
      "execution_count": null,
      "outputs": [
        {
          "output_type": "stream",
          "name": "stdout",
          "text": [
            "575.6\n",
            "340\n"
          ]
        }
      ]
    },
    {
      "cell_type": "markdown",
      "source": [
        "12-5 심사문제"
      ],
      "metadata": {
        "id": "GjcHVhOtfh8o"
      }
    },
    {
      "cell_type": "code",
      "source": [
        "x = input().split()\n",
        "y = map(float,input().split())\n",
        "lux = dict(zip(x,y))\n",
        "print(lux)"
      ],
      "metadata": {
        "colab": {
          "base_uri": "https://localhost:8080/"
        },
        "id": "SVdP-BTLfOxW",
        "outputId": "61db44e6-d7a2-4dfa-a4ab-47fb0c15aaba"
      },
      "execution_count": null,
      "outputs": [
        {
          "output_type": "stream",
          "name": "stdout",
          "text": [
            "health health_regen mana mana_regen\n",
            "575.6 1.7 338.8 1.63\n",
            "{'health': 575.6, 'health_regen': 1.7, 'mana': 338.8, 'mana_regen': 1.63}\n"
          ]
        }
      ]
    },
    {
      "cell_type": "code",
      "source": [],
      "metadata": {
        "id": "5xQbPCHufqKo"
      },
      "execution_count": null,
      "outputs": []
    }
  ]
}