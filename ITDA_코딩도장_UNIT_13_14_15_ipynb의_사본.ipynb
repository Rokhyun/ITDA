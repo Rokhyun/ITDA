{
  "nbformat": 4,
  "nbformat_minor": 0,
  "metadata": {
    "colab": {
      "provenance": [],
      "authorship_tag": "ABX9TyOqH+wBUL6Q8pMoAY4pfmrh",
      "include_colab_link": true
    },
    "kernelspec": {
      "name": "python3",
      "display_name": "Python 3"
    },
    "language_info": {
      "name": "python"
    }
  },
  "cells": [
    {
      "cell_type": "markdown",
      "metadata": {
        "id": "view-in-github",
        "colab_type": "text"
      },
      "source": [
        "<a href=\"https://colab.research.google.com/github/Rokhyun/ITDA/blob/main/ITDA_%EC%BD%94%EB%94%A9%EB%8F%84%EC%9E%A5_UNIT_13_14_15_ipynb%EC%9D%98_%EC%82%AC%EB%B3%B8.ipynb\" target=\"_parent\"><img src=\"https://colab.research.google.com/assets/colab-badge.svg\" alt=\"Open In Colab\"/></a>"
      ]
    },
    {
      "cell_type": "markdown",
      "source": [
        "#UNIT 13 if 조건문"
      ],
      "metadata": {
        "id": "lanUILNKVJqO"
      }
    },
    {
      "cell_type": "markdown",
      "source": [
        "###13-1 조건문 사용하기"
      ],
      "metadata": {
        "id": "KrFpSlqMm05f"
      }
    },
    {
      "cell_type": "code",
      "execution_count": null,
      "metadata": {
        "id": "mELAcjZHUROj"
      },
      "outputs": [],
      "source": [
        "#if 조건식:\n",
        "     #코드 \n",
        "\n",
        "#이러한 형식으로 사용한다. 실행할 코드에는 들여쓰기가 필요."
      ]
    },
    {
      "cell_type": "code",
      "source": [
        "x = 10\n",
        "if x == 10:\n",
        "  print('10입니다.')\n"
      ],
      "metadata": {
        "colab": {
          "base_uri": "https://localhost:8080/"
        },
        "id": "sq0qvAe4nDHK",
        "outputId": "e507fa13-ac8c-4777-b88e-ccd14143021a"
      },
      "execution_count": null,
      "outputs": [
        {
          "output_type": "stream",
          "name": "stdout",
          "text": [
            "10입니다.\n"
          ]
        }
      ]
    },
    {
      "cell_type": "code",
      "source": [
        "#값을 비교할 경우 = 아닌 ==을 이용해야 함."
      ],
      "metadata": {
        "id": "LLaOelfwnJKX"
      },
      "execution_count": null,
      "outputs": []
    },
    {
      "cell_type": "code",
      "source": [
        "x = 10\n",
        "if x == 10:\n",
        "  pass\n",
        "\n",
        "#if 다음에 pass 키워드를 넣으면 그냥 넘어감."
      ],
      "metadata": {
        "id": "zt86o80KnWKu"
      },
      "execution_count": null,
      "outputs": []
    },
    {
      "cell_type": "markdown",
      "source": [
        "13-7 심사문제"
      ],
      "metadata": {
        "id": "T0G6ZCERsPQp"
      }
    },
    {
      "cell_type": "code",
      "source": [
        "a = int(input())\n",
        "b = input()\n",
        "if b == 'Cash3000':\n",
        "  print(a - 3000)\n",
        "if b =='Cash5000':\n",
        "  print(a - 5000)"
      ],
      "metadata": {
        "id": "gxGSHlfFr2Er",
        "colab": {
          "base_uri": "https://localhost:8080/"
        },
        "outputId": "f682e00b-c633-48da-ba65-46d7042dfd52"
      },
      "execution_count": null,
      "outputs": [
        {
          "output_type": "stream",
          "name": "stdout",
          "text": [
            "72000 \n",
            "Cash5000\n",
            "67000\n"
          ]
        }
      ]
    },
    {
      "cell_type": "markdown",
      "source": [
        "#UNIT14 else"
      ],
      "metadata": {
        "id": "UGO4pG5qsrMl"
      }
    },
    {
      "cell_type": "markdown",
      "source": [
        "14-1 else 사용하기"
      ],
      "metadata": {
        "id": "b4hh3twPsx96"
      }
    },
    {
      "cell_type": "code",
      "source": [
        "#if 조건문은 조건식에 맞는 코드만 사용. else를 통해 만족하지 않을 경우\n",
        "#다른 코드를 사용할 수 있음. 분기"
      ],
      "metadata": {
        "id": "uXOp9eZDsiHw"
      },
      "execution_count": null,
      "outputs": []
    },
    {
      "cell_type": "markdown",
      "source": [
        "if 조건식:\n",
        "\n",
        "    코드:\n",
        "else:\n",
        "\n",
        "    코드2"
      ],
      "metadata": {
        "id": "56XSKBUmtDXm"
      }
    },
    {
      "cell_type": "code",
      "source": [
        "x = 5\n",
        "if x ==10:\n",
        "  print('10임')\n",
        "else:\n",
        "  print('10이 아님.')"
      ],
      "metadata": {
        "colab": {
          "base_uri": "https://localhost:8080/"
        },
        "id": "G5T2FvZHtAhc",
        "outputId": "7b4ad3ed-f84b-4a49-8d78-74feb94d7000"
      },
      "execution_count": null,
      "outputs": [
        {
          "output_type": "stream",
          "name": "stdout",
          "text": [
            "10이 아님.\n"
          ]
        }
      ]
    },
    {
      "cell_type": "markdown",
      "source": [
        "14-3 if 조건문의 동작방식"
      ],
      "metadata": {
        "id": "SILSlMO8tha3"
      }
    },
    {
      "cell_type": "code",
      "source": [
        "if True:\n",
        "    print('참')    # True는 참\n",
        "else:\n",
        "    print('거짓')\n",
        " \n",
        "if False:\n",
        "    print('참')\n",
        "else:\n",
        "    print('거짓')    # False는 거짓\n",
        " \n",
        "if None:\n",
        "    print('참')\n",
        "else:\n",
        "    print('거짓')    # None은 거짓"
      ],
      "metadata": {
        "colab": {
          "base_uri": "https://localhost:8080/"
        },
        "id": "nfIfLIywtZlc",
        "outputId": "34536746-c1af-404e-dc3a-da8e50edc914"
      },
      "execution_count": null,
      "outputs": [
        {
          "output_type": "stream",
          "name": "stdout",
          "text": [
            "참\n",
            "거짓\n",
            "거짓\n"
          ]
        }
      ]
    },
    {
      "cell_type": "markdown",
      "source": [
        "14-3-1 if문에 숫자 지정"
      ],
      "metadata": {
        "id": "eZj6r4tyt6ch"
      }
    },
    {
      "cell_type": "markdown",
      "source": [
        "숫자는 0이면 거짓 0이 아니면 참"
      ],
      "metadata": {
        "id": "qnqyPIgQuHWs"
      }
    },
    {
      "cell_type": "code",
      "source": [
        "if 0:\n",
        "    print('참')\n",
        "else:\n",
        "    print('거짓')    # 0은 거짓\n",
        " \n",
        "if 1:\n",
        "    print('참')    # 1은 참\n",
        "else:\n",
        "    print('거짓')\n",
        " \n",
        "if 0x1F:    # 16진수\n",
        "    print('참')    # 0x1F는 참\n",
        "else:\n",
        "    print('거짓')\n",
        " \n",
        "if 0b1000:    # 2진수\n",
        "    print('참')    # 0b1000은 참\n",
        "else:\n",
        "    print('거짓')\n",
        " \n",
        "if 13.5:    # 실수\n",
        "    print('참')    # 13.5는 참\n",
        "else:\n",
        "    print('거짓')"
      ],
      "metadata": {
        "colab": {
          "base_uri": "https://localhost:8080/"
        },
        "id": "-G7Zkjp2t0Iy",
        "outputId": "b9d32fa8-7652-4852-c46e-ed18c713fa37"
      },
      "execution_count": null,
      "outputs": [
        {
          "output_type": "stream",
          "name": "stdout",
          "text": [
            "거짓\n",
            "참\n",
            "참\n",
            "참\n",
            "참\n"
          ]
        }
      ]
    },
    {
      "cell_type": "markdown",
      "source": [
        "14-3-2 if 문자열 지정"
      ],
      "metadata": {
        "id": "L-KreDo8uO0I"
      }
    },
    {
      "cell_type": "markdown",
      "source": [],
      "metadata": {
        "id": "c73w38etuStu"
      }
    },
    {
      "cell_type": "markdown",
      "source": [
        "-문자열은 내용이 있으면 참. 없으면 거짓"
      ],
      "metadata": {
        "id": "o6Ki-pQpuSuz"
      }
    },
    {
      "cell_type": "code",
      "source": [
        "if 'Hello':    # 문자열\n",
        "    print('참')    # 문자열은 참\n",
        "else:\n",
        "    print('거짓')\n",
        " \n",
        "if '':    # 빈 문자열\n",
        "    print('참')\n",
        "else:\n",
        "    print('거짓')    # 빈 문자열은 거짓"
      ],
      "metadata": {
        "colab": {
          "base_uri": "https://localhost:8080/"
        },
        "id": "f5iIcLiUt9WP",
        "outputId": "7db52b5d-5ed6-4fb7-a8a6-4b709fce956c"
      },
      "execution_count": null,
      "outputs": [
        {
          "output_type": "stream",
          "name": "stdout",
          "text": [
            "참\n",
            "거짓\n"
          ]
        }
      ]
    },
    {
      "cell_type": "markdown",
      "source": [
        "14-4 여러개의 조건식"
      ],
      "metadata": {
        "id": "xNNCtdTiuasf"
      }
    },
    {
      "cell_type": "code",
      "source": [
        "x = 10\n",
        "y = 20\n",
        "\n",
        "if x == 10 and y == 20: #x가 10이면서 동시에 y가 20일때\n",
        "  print('참') \n",
        "else:\n",
        "  print('거짓')"
      ],
      "metadata": {
        "colab": {
          "base_uri": "https://localhost:8080/"
        },
        "id": "JcqNLxxLuR-k",
        "outputId": "aef165d9-86ad-4c2a-ee22-9e1b11f06062"
      },
      "execution_count": null,
      "outputs": [
        {
          "output_type": "stream",
          "name": "stdout",
          "text": [
            "참\n"
          ]
        }
      ]
    },
    {
      "cell_type": "markdown",
      "source": [
        "14-4 중첩 if문"
      ],
      "metadata": {
        "id": "jCmTQUEIvqLW"
      }
    },
    {
      "cell_type": "code",
      "source": [
        "if x > 0:\n",
        "  if x < 20:\n",
        "    print('20보다 작은 양수입니다.')"
      ],
      "metadata": {
        "colab": {
          "base_uri": "https://localhost:8080/"
        },
        "id": "COVxyVNsvj1m",
        "outputId": "c64fef36-e218-4d0c-a2c9-832816fd8cf6"
      },
      "execution_count": null,
      "outputs": [
        {
          "output_type": "stream",
          "name": "stdout",
          "text": [
            "20보다 작은 양수입니다.\n"
          ]
        }
      ]
    },
    {
      "cell_type": "markdown",
      "source": [
        "14-6 연습문제"
      ],
      "metadata": {
        "id": "HvWl682KxI_U"
      }
    },
    {
      "cell_type": "code",
      "source": [
        "wt = 75\n",
        "ct = True\n",
        " \n",
        "if wt >= 80 and ct == True:\n",
        "    print('합격')\n",
        "else:\n",
        "    print('불합격')"
      ],
      "metadata": {
        "colab": {
          "base_uri": "https://localhost:8080/"
        },
        "id": "7nUWZUSlv1cl",
        "outputId": "c444b0f5-15ab-4292-9aea-33e80fe5472c"
      },
      "execution_count": null,
      "outputs": [
        {
          "output_type": "stream",
          "name": "stdout",
          "text": [
            "불합격\n"
          ]
        }
      ]
    },
    {
      "cell_type": "markdown",
      "source": [
        "14-7 심사문제"
      ],
      "metadata": {
        "id": "Nk6ZNmYtxlD_"
      }
    },
    {
      "cell_type": "code",
      "source": [
        "korean, english, mathematics, science = map(int, input().split())\n",
        "\n",
        "if korean < 0 or korean > 100 or english < 0 or english > 100 or mathematics < 0 or mathematics > 100 or science < 0 or science > 100:\n",
        "  print('잘못된 점수')\n",
        "else:\n",
        "  if (korean + english + mathematics + science) / 4 >= 80:\n",
        "    print('합격')\n",
        "  else:\n",
        "    print('불합격')"
      ],
      "metadata": {
        "colab": {
          "base_uri": "https://localhost:8080/"
        },
        "id": "BNQ9znb-xrqR",
        "outputId": "f49b6bf7-aec5-4e20-c238-1d1322f2c0fd"
      },
      "execution_count": null,
      "outputs": [
        {
          "output_type": "stream",
          "name": "stdout",
          "text": [
            "98 98 55 64\n",
            "불합격\n"
          ]
        }
      ]
    },
    {
      "cell_type": "markdown",
      "source": [
        "#UNIT 15 elif 사용"
      ],
      "metadata": {
        "id": "qBhQgnq71HzT"
      }
    },
    {
      "cell_type": "markdown",
      "source": [
        "elif는 else처럼 사용. else if 라는 뜻. 단독사용 불가."
      ],
      "metadata": {
        "id": "oeOSLGO11POG"
      }
    },
    {
      "cell_type": "markdown",
      "source": [
        "순서 if >> elif >> else \n"
      ],
      "metadata": {
        "id": "R18F-nC013T6"
      }
    },
    {
      "cell_type": "code",
      "source": [
        "x = 20\n",
        "if x == 10:\n",
        "  print('10임')\n",
        "elif x == 20:\n",
        "  print('20임')"
      ],
      "metadata": {
        "colab": {
          "base_uri": "https://localhost:8080/"
        },
        "id": "VeKkLuOq09nq",
        "outputId": "0b07af2d-1a32-49b6-ea5c-63a8c0e61d56"
      },
      "execution_count": null,
      "outputs": [
        {
          "output_type": "stream",
          "name": "stdout",
          "text": [
            "20임\n"
          ]
        }
      ]
    },
    {
      "cell_type": "code",
      "source": [
        "#if else elif 모두 사용하기\n",
        "\n",
        "x = 30\n",
        "\n",
        "if x ==10:\n",
        "  print('10입니다.')\n",
        "elif x == 20:\n",
        "  print('20임.')\n",
        "else:\n",
        "  print('뭣도아님')"
      ],
      "metadata": {
        "colab": {
          "base_uri": "https://localhost:8080/"
        },
        "id": "gam1jNzA1d55",
        "outputId": "010937dc-5b0c-433a-a563-2e2a165eee31"
      },
      "execution_count": null,
      "outputs": [
        {
          "output_type": "stream",
          "name": "stdout",
          "text": [
            "뭣도아님\n"
          ]
        }
      ]
    },
    {
      "cell_type": "markdown",
      "source": [
        "15-3 연습문제"
      ],
      "metadata": {
        "id": "Ljum3yOy2MCl"
      }
    },
    {
      "cell_type": "code",
      "source": [
        "x = int(input())\n",
        "if 11 <= x <=20:\n",
        "  print('11~20')\n",
        "elif 21 <= x <= 30:\n",
        "  print('21~30')\n",
        "else:\n",
        "  print('뭣도아님')"
      ],
      "metadata": {
        "colab": {
          "base_uri": "https://localhost:8080/"
        },
        "id": "t0I8hLPB1xVM",
        "outputId": "9ff445fb-78c6-420a-a0f2-1fa205264469"
      },
      "execution_count": null,
      "outputs": [
        {
          "output_type": "stream",
          "name": "stdout",
          "text": [
            "5\n",
            "뭣도아님\n"
          ]
        }
      ]
    },
    {
      "cell_type": "markdown",
      "source": [
        "15-4 심사문제"
      ],
      "metadata": {
        "id": "DQTFmbjg2pQD"
      }
    },
    {
      "cell_type": "code",
      "source": [
        "age = int(input())\n",
        "balance = 9000\n",
        "\n",
        "if 7 <= age <= 12:\n",
        "  balance = balance -650\n",
        "elif 13 <= age <= 18:\n",
        "  balance = balance - 1050\n",
        "else:\n",
        "  balance = balance - 1250\n",
        "\n",
        "print(balance)\n"
      ],
      "metadata": {
        "colab": {
          "base_uri": "https://localhost:8080/"
        },
        "id": "Z68jFYcZ2nPV",
        "outputId": "50f08565-cef1-4e18-efc6-3fad75a983ba"
      },
      "execution_count": null,
      "outputs": [
        {
          "output_type": "stream",
          "name": "stdout",
          "text": [
            "17\n",
            "7950\n"
          ]
        }
      ]
    },
    {
      "cell_type": "code",
      "source": [],
      "metadata": {
        "id": "JOlmg3be3F--"
      },
      "execution_count": null,
      "outputs": []
    }
  ]
}